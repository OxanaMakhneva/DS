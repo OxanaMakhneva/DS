{
  "nbformat": 4,
  "nbformat_minor": 0,
  "metadata": {
    "colab": {
      "provenance": [],
      "authorship_tag": "ABX9TyOp+nikNRWOJswVpXxfmPxB",
      "include_colab_link": true
    },
    "kernelspec": {
      "name": "python3",
      "display_name": "Python 3"
    },
    "language_info": {
      "name": "python"
    }
  },
  "cells": [
    {
      "cell_type": "markdown",
      "metadata": {
        "id": "view-in-github",
        "colab_type": "text"
      },
      "source": [
        "<a href=\"https://colab.research.google.com/github/OxanaMakhneva/DS/blob/master/correlation.ipynb\" target=\"_parent\"><img src=\"https://colab.research.google.com/assets/colab-badge.svg\" alt=\"Open In Colab\"/></a>"
      ]
    },
    {
      "cell_type": "code",
      "source": [
        "import pandas as pd\n",
        "import itertools\n",
        "from collections import Counter\n",
        "from itertools import combinations"
      ],
      "metadata": {
        "id": "KY74xPzK3wWV"
      },
      "execution_count": null,
      "outputs": []
    },
    {
      "cell_type": "code",
      "execution_count": null,
      "metadata": {
        "id": "Pq0Enn0f3h79"
      },
      "outputs": [],
      "source": [
        "\"\"\" Семейство функция для оценки мультиколлинеарности\"\"\"\n",
        "\n",
        "#Функция, которая находит максимально часто задействованный в корреляции столбец\n",
        "#и список столбцов, с ним коррелированных\n",
        "#На входпринимает список названий столбцов, которые надо проверить на корреляцию\n",
        "def calc_max_corr_col(list_of_cols, df):\n",
        "    #Находим все комбинации столбцов\n",
        "    col_combs = list(itertools.combinations(list_of_cols, 2))\n",
        "    #Задаем списки для всех коррелированных столбцов\n",
        "    col_comb_with_corr = []\n",
        "    all_cols_with_corr = []\n",
        "    new_list = []\n",
        "\n",
        "    for col_comb in col_combs:\n",
        "        try:\n",
        "            corr_value = df[col_comb[0]].corr(df[col_comb[1]])\n",
        "            #Если корреляция выше порога добавляем столбцы в списки коррелированных\n",
        "            if abs(corr_value) > 0.7:\n",
        "                col_comb_with_corr.append([corr_value, col_comb[0], col_comb[1]])\n",
        "                all_cols_with_corr.append(col_comb[0])\n",
        "                all_cols_with_corr.append(col_comb[1])\n",
        "\n",
        "        except:\n",
        "            pass\n",
        "\n",
        "    #Считаем количество вхождений каждого столбца в списки коррелированных\n",
        "    count = Counter(all_cols_with_corr)\n",
        "\n",
        "    #Ищем столбец, наиболее часто встреччающийся в списке коррелированных\n",
        "    try:\n",
        "        max_corr_col = max(count, key=count.get)\n",
        "    except:\n",
        "        return None\n",
        "\n",
        "    #Формируем список столбцов, с которыми он коррелирован\n",
        "    for comb in col_comb_with_corr:\n",
        "        if comb[1] == max_corr_col:\n",
        "            new_list.append(comb[2])\n",
        "        elif comb[2] == max_corr_col:\n",
        "            new_list.append(comb[1])\n",
        "        else:\n",
        "            pass\n",
        "\n",
        "    friends = {max_corr_col:  new_list}\n",
        "\n",
        "    #Возвращаем название столбца, число его вхождений в список коррелированных, его друзей по корреляции\n",
        "    return (max_corr_col, count[max_corr_col], friends)\n",
        "\n",
        "\n",
        " #Функция, которая определяет список мультиколленеарных столбцов\n",
        "def calc_corr_cols(list_of_cols, df):\n",
        "    #Список столбцов на удаление из списка комбинаций\n",
        "    list_of_cols_for_drop = []\n",
        "    #Список столбцов-друзей максимально коррелированныхстолбцов\n",
        "    list_of_friends = []\n",
        "    #Максимальное количество итераций\n",
        "    number_iters = len(list_of_cols)\n",
        "\n",
        "    for step in range(number_iters):\n",
        "        #Вычисляем наиболее часто коррелированный столбец и его друзей-корелянтов\n",
        "        results = calc_max_corr_col(list_of_cols, df)\n",
        "        if not results:\n",
        "            break\n",
        "        (max_corr_col, max_corr_col_count, friens) = results\n",
        "\n",
        "        #Если количество столбцов, с которым коррелирован самый коррелированный меньше 1 выходим из цикла\n",
        "        if max_corr_col_count < 1:\n",
        "            break\n",
        "        else:\n",
        "            #Заисываем столбец в список на удаление\n",
        "            list_of_cols_for_drop.append(max_corr_col)\n",
        "            #Убираем его из списка для построения комбинаций\n",
        "            list_of_cols.remove(max_corr_col)\n",
        "            #Фиксируем друзей-коррелянтов\n",
        "            list_of_friends.append(friens)\n",
        "    return (list_of_cols_for_drop, list_of_friends)"
      ]
    },
    {
      "cell_type": "code",
      "source": [
        "#Определение коллинеарных столбцов\n",
        "list_of_cols = list(df.columns)\n",
        "list_of_cols_for_drop, list_of_friends = calc_corr_cols(list_of_cols, df)\n",
        "\n",
        "#Список всех коррелированных столбцов\n",
        "display(list_of_cols_for_drop)"
      ],
      "metadata": {
        "id": "IJ3Mzzm95UWT"
      },
      "execution_count": null,
      "outputs": []
    },
    {
      "cell_type": "code",
      "source": [
        "#Список всех коррелированных столбцов с указанием столбцов, с которыми они коррелированы\n",
        "display(list_of_friends)"
      ],
      "metadata": {
        "id": "szhOR1WM5bSm"
      },
      "execution_count": null,
      "outputs": []
    }
  ]
}